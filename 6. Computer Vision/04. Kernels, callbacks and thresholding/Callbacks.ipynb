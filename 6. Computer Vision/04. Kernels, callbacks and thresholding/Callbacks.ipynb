{
 "cells": [
  {
   "cell_type": "markdown",
   "metadata": {},
   "source": [
    "# OpenCV Callbacks"
   ]
  },
  {
   "cell_type": "code",
   "execution_count": 1,
   "metadata": {
    "ExecuteTime": {
     "end_time": "2021-03-11T21:49:35.315735Z",
     "start_time": "2021-03-11T21:49:34.740357Z"
    }
   },
   "outputs": [],
   "source": [
    "import cv2\n",
    "import numpy as np\n",
    "import matplotlib.pyplot as plt\n",
    "%matplotlib inline"
   ]
  },
  {
   "cell_type": "markdown",
   "metadata": {},
   "source": [
    "## Keyboard callbacks"
   ]
  },
  {
   "cell_type": "code",
   "execution_count": 2,
   "metadata": {
    "ExecuteTime": {
     "end_time": "2021-03-11T21:49:36.042456Z",
     "start_time": "2021-03-11T21:49:36.004842Z"
    }
   },
   "outputs": [],
   "source": [
    "i = cv2.imread('img/Surfers-Paradise-Surfer.jpg')"
   ]
  },
  {
   "cell_type": "code",
   "execution_count": 3,
   "metadata": {
    "ExecuteTime": {
     "end_time": "2021-03-11T16:20:39.693582Z",
     "start_time": "2021-03-11T16:20:36.101142Z"
    }
   },
   "outputs": [],
   "source": [
    "# Load an image and show it on screen with cv2.imshow\n",
    "\n",
    "window_name = 'Window'\n",
    "cv2.namedWindow(window_name)\n",
    "# When the key g or G is detected then change the image to show in grayscale\n",
    "def gray_scale(img):\n",
    "    img = cv2.cvtColor(img, cv2.COLOR_BGR2GRAY)\n",
    "    return img\n",
    "\n",
    "# When the key c or C is detected then change the image to show in color\n",
    "def color_img(img):\n",
    "    img = i.copy()\n",
    "    return img\n",
    "# When the key t or T is detected then change the image to show the thresholded version of the image\n",
    "# When the key esc is detected close the image\n",
    "def close_windows():\n",
    "    cv2.destroyAllWindows()\n",
    "img = i.copy()\n",
    "while(True):\n",
    "    cv2.imshow(window_name,img)\n",
    "    k = cv2.waitKey()\n",
    "    if k == ord('g') or k == ord('G'):\n",
    "        img = gray_scale(img)\n",
    "        cv2.imshow(window_name,img)\n",
    "    if k == ord('c') or k == ord(\"C\"):\n",
    "        img = color_img(img)\n",
    "        cv2.imshow(window_name,img)\n",
    "    if k == 27: #ord('esc'):\n",
    "        close_windows()\n",
    "        cv2.waitKey(1)\n",
    "        break\n"
   ]
  },
  {
   "cell_type": "markdown",
   "metadata": {},
   "source": [
    "[Hint](# \"You will need to use cv2.waitKey and python ord functions\") "
   ]
  },
  {
   "cell_type": "code",
   "execution_count": null,
   "metadata": {},
   "outputs": [],
   "source": [
    "# Do the same as above but using your webcam image \n",
    "\n"
   ]
  },
  {
   "cell_type": "markdown",
   "metadata": {},
   "source": [
    "[Hint](# \"You will need to use cv2.VideoCapture function\") "
   ]
  },
  {
   "cell_type": "markdown",
   "metadata": {},
   "source": [
    "## Mouse callbacks"
   ]
  },
  {
   "cell_type": "code",
   "execution_count": null,
   "metadata": {},
   "outputs": [],
   "source": [
    "# Load an image and show it on screen with cv2.imshow\n",
    "# When the user clicks on top of the image save the coordinates\n",
    "# The user will then move the cursor without releasing the mouse button to another position\n",
    "# When the user releases the button draw a rectagle around the ROI\n",
    "# When the key esc is detected close the image\n"
   ]
  },
  {
   "cell_type": "code",
   "execution_count": null,
   "metadata": {},
   "outputs": [],
   "source": [
    "# Crop and save the ROI image to disk \n"
   ]
  },
  {
   "cell_type": "code",
   "execution_count": 3,
   "metadata": {
    "ExecuteTime": {
     "end_time": "2021-03-11T21:48:57.744270Z",
     "start_time": "2021-03-11T21:48:57.740780Z"
    }
   },
   "outputs": [],
   "source": [
    "mouse_i = i.copy()"
   ]
  },
  {
   "cell_type": "code",
   "execution_count": 4,
   "metadata": {
    "ExecuteTime": {
     "end_time": "2021-03-11T21:49:10.468942Z",
     "start_time": "2021-03-11T21:48:58.620631Z"
    }
   },
   "outputs": [
    {
     "name": "stdout",
     "output_type": "stream",
     "text": [
      "Mouse down\n",
      " top left: (344, 198) \n",
      "Bottom right:  (0, 0)\n",
      "Mouse up\n",
      " top left: (344, 198) \n",
      "Bottom right:  (1116, 837)\n"
     ]
    }
   ],
   "source": [
    "window = \"Mouse\"\n",
    "cv2.namedWindow(window)\n",
    "top_left = (0,0)\n",
    "bottom_right = (0,0)\n",
    "clicked = False\n",
    "crop = True\n",
    "def mouse_action(action,x,y,flags,userdata):\n",
    "    global top_left\n",
    "    global bottom_right\n",
    "    global clicked\n",
    "    dow_up = False\n",
    "    if action == cv2.EVENT_LBUTTONDOWN:\n",
    "        top_left = (x,y)\n",
    "        clicked = True\n",
    "        print(\"Mouse down\\n\", \"top left:\", top_left, \"\\nBottom right: \", bottom_right)\n",
    "    if action == cv2.EVENT_LBUTTONUP:\n",
    "        bottom_right = (x,y)\n",
    "        dow_up = True\n",
    "        clicked = False\n",
    "        print(\"Mouse up\\n\", \"top left:\", top_left, \"\\nBottom right: \", bottom_right)\n",
    "    if clicked:\n",
    "        if action == cv2.EVENT_MOUSEMOVE:\n",
    "            i = mouse_i.copy()\n",
    "            line = cv2.line(i,top_left,(x,y),(0,0,255),3)\n",
    "            cv2.imshow(window,line)\n",
    "    if dow_up:\n",
    "        ir = cv2.rectangle(userdata,top_left,bottom_right,(0,255,0),3)\n",
    "        cv2.imshow(window,ir)\n",
    "        if crop:\n",
    "            c = mouse_i.copy()\n",
    "            cropped = c[top_left[1]:bottom_right[1], top_left[0]:bottom_right[0]]\n",
    "            cv2.imshow(\"Cropped\", cropped)\n",
    "            cv2.imwrite('img/crop.png',cropped)\n",
    "    \n",
    "def close_windows():\n",
    "    cv2.destroyAllWindows()\n",
    "    \n",
    "while(True):\n",
    "    mi = mouse_i.copy()\n",
    "    cv2.imshow(window,mi)\n",
    "    cv2.setMouseCallback(window,mouse_action,mi)\n",
    "    k = cv2.waitKey()\n",
    "    if k == 27: #ord('esc'):\n",
    "        close_windows()\n",
    "        cv2.waitKey(1)\n",
    "        break"
   ]
  },
  {
   "cell_type": "markdown",
   "metadata": {},
   "source": [
    "[Hint](# \"cv2.setMouseCallback\") "
   ]
  },
  {
   "cell_type": "markdown",
   "metadata": {},
   "source": [
    "## Trackbars"
   ]
  },
  {
   "cell_type": "code",
   "execution_count": 3,
   "metadata": {
    "ExecuteTime": {
     "end_time": "2021-03-11T21:51:12.752059Z",
     "start_time": "2021-03-11T21:51:09.566239Z"
    }
   },
   "outputs": [
    {
     "data": {
      "text/plain": [
       "-1"
      ]
     },
     "execution_count": 3,
     "metadata": {},
     "output_type": "execute_result"
    }
   ],
   "source": [
    "# Create a named window, load and show an image in that window\n",
    "track_window = \"track bars\"\n",
    "cv2.namedWindow(track_window)\n",
    "cv2.imshow(track_window,i)\n",
    "cv2.waitKey(0)\n",
    "cv2.destroyAllWindows()\n",
    "cv2.waitKey(1)"
   ]
  },
  {
   "cell_type": "markdown",
   "metadata": {},
   "source": [
    "[Hint](# \"cv2.namedWindow\") "
   ]
  },
  {
   "cell_type": "code",
   "execution_count": null,
   "metadata": {},
   "outputs": [],
   "source": [
    "# Add at least 3 different trackbars to the window (choose of any parameters that you want to modify with them)\n",
    "# Each trackbar will modify some parameter of the image, write a function for each trackbar\n",
    "# When the user move the trackbar around the image should be updated accordingly\n",
    "# When the key esc is detected close the image\n"
   ]
  },
  {
   "cell_type": "markdown",
   "metadata": {},
   "source": [
    "[Hint](# \"cv2.createTrackbar\") "
   ]
  },
  {
   "cell_type": "code",
   "execution_count": null,
   "metadata": {
    "ExecuteTime": {
     "end_time": "2019-11-19T11:17:40.562115Z",
     "start_time": "2019-11-19T11:17:39.321415Z"
    },
    "scrolled": false
   },
   "outputs": [],
   "source": [
    "# Do the same as above but using your webcam image so the trackbars will apply the changes on live image\n"
   ]
  }
 ],
 "metadata": {
  "kernelspec": {
   "display_name": "Python 3",
   "language": "python",
   "name": "python3"
  },
  "language_info": {
   "codemirror_mode": {
    "name": "ipython",
    "version": 3
   },
   "file_extension": ".py",
   "mimetype": "text/x-python",
   "name": "python",
   "nbconvert_exporter": "python",
   "pygments_lexer": "ipython3",
   "version": "3.8.2"
  }
 },
 "nbformat": 4,
 "nbformat_minor": 2
}
