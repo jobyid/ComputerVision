{
 "cells": [
  {
   "cell_type": "markdown",
   "metadata": {},
   "source": [
    "# Computer Vision"
   ]
  },
  {
   "cell_type": "markdown",
   "metadata": {},
   "source": [
    "### List your new Computer Vision skills, usages and importance"
   ]
  },
  {
   "cell_type": "markdown",
   "metadata": {},
   "source": [
    "1. Image Anotation: Adding rectangles and other shapes to images, inlcuding writing text on a image \n",
    "2. Reconigse User inputs: Use keyboard and mouse inputs to make changes to images in response to the input\n",
    "3. Filter By Color: Do some filtration and pick out colors in images \n",
    "4. Erode and Dilate: Remove and add pixels in images to make them sharper or more blured \n",
    "\n",
    "### List your projects with repository url"
   ]
  },
  {
   "cell_type": "markdown",
   "metadata": {},
   "source": [
    "### Strive Computer Vision Exercises\n",
    "Project description: The exercises set in the course. \n",
    "Computer vision skills applied  \n",
    "Repository url: [Computer Vision Exercises](https://github.com/jobyid/ComputerVision)  \n"
   ]
  },
  {
   "cell_type": "markdown",
   "metadata": {},
   "source": [
    "### Anything else you would like to add or share?"
   ]
  }
 ],
 "metadata": {
  "kernelspec": {
   "display_name": "Python 3",
   "language": "python",
   "name": "python3"
  },
  "language_info": {
   "codemirror_mode": {
    "name": "ipython",
    "version": 3
   },
   "file_extension": ".py",
   "mimetype": "text/x-python",
   "name": "python",
   "nbconvert_exporter": "python",
   "pygments_lexer": "ipython3",
   "version": "3.8.2"
  }
 },
 "nbformat": 4,
 "nbformat_minor": 2
}
